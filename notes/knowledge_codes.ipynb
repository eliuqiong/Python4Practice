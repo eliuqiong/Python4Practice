{
 "cells": [
  {
   "cell_type": "code",
   "execution_count": 2,
   "metadata": {},
   "outputs": [
    {
     "name": "stdout",
     "output_type": "stream",
     "text": [
      "50\n",
      "I am thinking of a number from 1 to 100. What number am I thinking of?\n"
     ]
    }
   ],
   "source": [
    "import random\n",
    "\n",
    "def main():\n",
    "    # Program selects a new random number\n",
    "    secret_number = random.randint(1,100)\n",
    "    print(secret_number)\n",
    "\n",
    "    print(\"I am thinking of a number from 1 to 100. What number am I thinking of?\")\n",
    "    guess_str = input(\"tell me what is your best guess\")\n",
    "    guess = int(guess_str)\n",
    "\n",
    "    while guess != secret_number:\n",
    "        if guess > secret_number:\n",
    "            print(\"Nope! That guess was too high!\")\n",
    "        if guess < secret_number:\n",
    "            print(\"Sorry! That guess was too low!\")\n",
    "        print(\"Take another guess!\")\n",
    "        guess_str = input()\n",
    "        guess = int(guess_str)\n",
    "    print(\"You guessed my number! Way to go!\")\n",
    "\n",
    "\n",
    "if __name__ == '__main__':\n",
    "    main()"
   ]
  },
  {
   "cell_type": "code",
   "execution_count": 5,
   "metadata": {},
   "outputs": [
    {
     "name": "stdout",
     "output_type": "stream",
     "text": [
      "you cannot input 0\n"
     ]
    }
   ],
   "source": [
    "# git codes\n",
    "try:\n",
    "    print(5/0)\n",
    "except ZeroDivisionError:\n",
    "    print(\"you cannot divide by 0\")"
   ]
  },
  {
   "cell_type": "code",
   "execution_count": 7,
   "metadata": {},
   "outputs": [
    {
     "name": "stdout",
     "output_type": "stream",
     "text": [
      "\"WHO ARE YOU?\"\n",
      "~~~~~~~~~~~see the difference?~~~~~~~~~~~~~~~~\n",
      "\n",
      "    You probably won't need to use triple quotation marks\n",
      "    very often, but it is an extra tool you have available\n",
      "    to you if you need it. \n",
      "\n",
      "    Now, we're going to print this\n",
      "    whole paragraph to the console!\n",
      "    \n"
     ]
    }
   ],
   "source": [
    "print(\"\\\"WHO ARE YOU?\\\"\")\n",
    "print(\"~~~~~~~~~~~see the difference?~~~~~~~~~~~~~~~~\")\n",
    "print(\"\"\"\n",
    "    You probably won't need to use triple quotation marks\n",
    "    very often, but it is an extra tool you have available\n",
    "    to you if you need it. \n",
    "\n",
    "    Now, we're going to print this\n",
    "    whole paragraph to the console!\n",
    "    \"\"\")"
   ]
  },
  {
   "cell_type": "code",
   "execution_count": 9,
   "metadata": {},
   "outputs": [
    {
     "name": "stdout",
     "output_type": "stream",
     "text": [
      "10000\n"
     ]
    }
   ],
   "source": [
    "file_import = \"/home/qiong/Downloads/source_code_data/chapter_10/pi_million_digits.txt\"\n",
    "\n",
    "with open(file_import) as file_object:\n",
    "    lines = file_object.readlines()\n",
    "    print(len(lines))"
   ]
  }
 ],
 "metadata": {
  "kernelspec": {
   "display_name": "Python 3",
   "language": "python",
   "name": "python3"
  },
  "language_info": {
   "codemirror_mode": {
    "name": "ipython",
    "version": 3
   },
   "file_extension": ".py",
   "mimetype": "text/x-python",
   "name": "python",
   "nbconvert_exporter": "python",
   "pygments_lexer": "ipython3",
   "version": "3.10.12"
  },
  "orig_nbformat": 4
 },
 "nbformat": 4,
 "nbformat_minor": 2
}
