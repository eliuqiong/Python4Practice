{
 "cells": [
  {
   "cell_type": "code",
   "execution_count": 2,
   "metadata": {},
   "outputs": [
    {
     "name": "stdout",
     "output_type": "stream",
     "text": [
      "50\n",
      "I am thinking of a number from 1 to 100. What number am I thinking of?\n"
     ]
    }
   ],
   "source": [
    "import random\n",
    "\n",
    "def main():\n",
    "    # Program selects a new random number\n",
    "    secret_number = random.randint(1,100)\n",
    "    print(secret_number)\n",
    "\n",
    "    print(\"I am thinking of a number from 1 to 100. What number am I thinking of?\")\n",
    "    guess_str = input(\"tell me what is your best guess\")\n",
    "    guess = int(guess_str)\n",
    "\n",
    "    while guess != secret_number:\n",
    "        if guess > secret_number:\n",
    "            print(\"Nope! That guess was too high!\")\n",
    "        if guess < secret_number:\n",
    "            print(\"Sorry! That guess was too low!\")\n",
    "        print(\"Take another guess!\")\n",
    "        guess_str = input()\n",
    "        guess = int(guess_str)\n",
    "    print(\"You guessed my number! Way to go!\")\n",
    "\n",
    "\n",
    "if __name__ == '__main__':\n",
    "    main()"
   ]
  },
  {
   "cell_type": "code",
   "execution_count": null,
   "metadata": {},
   "outputs": [],
   "source": [
    "# git codes\n"
   ]
  },
  {
   "attachments": {},
   "cell_type": "markdown",
   "metadata": {},
   "source": [
    "Ok, now we can explain commenting! The distinction between single and block comments is that a single-line comment is fully ignored by the interpreter, while a block comment is valid code that has no effect on the outcome of the program. If the interpreter sees a hashtag, it thinks to itself, “Great, I can skip this part!” With block comments, however, the interpreter doesn’t ignore the comment at all; it's just that the comment isn’t an instruction per se. The interpreter just reads it as, “Ok, there’s a comment here!” and continues on.\n",
    "\n",
    "So, why should you care? All of this really just means that you need to properly indent your block comments if you nest them inside of something like a loop. If you forget, Python will either yell at you for not indenting correctly, or worse, your code will break. If the block comment is not nested inside of anything, you can safely leave it unindented. This idea is illustrated in the above example. Do you see why we indented one block comment but not the other?"
   ]
  },
  {
   "attachments": {},
   "cell_type": "markdown",
   "metadata": {},
   "source": []
  },
  {
   "cell_type": "code",
   "execution_count": null,
   "metadata": {},
   "outputs": [],
   "source": []
  },
  {
   "cell_type": "code",
   "execution_count": 2,
   "metadata": {},
   "outputs": [],
   "source": []
  },
  {
   "cell_type": "markdown",
   "metadata": {},
   "source": []
  }
 ],
 "metadata": {
  "kernelspec": {
   "display_name": "Python 3",
   "language": "python",
   "name": "python3"
  },
  "language_info": {
   "codemirror_mode": {
    "name": "ipython",
    "version": 3
   },
   "file_extension": ".py",
   "mimetype": "text/x-python",
   "name": "python",
   "nbconvert_exporter": "python",
   "pygments_lexer": "ipython3",
   "version": "3.10.12"
  },
  "orig_nbformat": 4
 },
 "nbformat": 4,
 "nbformat_minor": 2
}
